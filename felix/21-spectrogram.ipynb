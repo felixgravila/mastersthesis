{
 "cells": [
  {
   "cell_type": "code",
   "execution_count": null,
   "metadata": {},
   "outputs": [],
   "source": [
    "import datetime\n",
    "import os\n",
    "import numpy as np\n",
    "import matplotlib.pyplot as plt\n",
    "\n",
    "from DataPrepper import PrepData\n",
    "from ChironModel import Chiron\n",
    "from Utils import labelBaseMap, get_valid_taiyaki_filename, set_gpu_limit\n",
    "\n",
    "set_gpu_limit(7000)\n",
    "\n",
    "filename = get_valid_taiyaki_filename()"
   ]
  },
  {
   "cell_type": "code",
   "execution_count": null,
   "metadata": {
    "scrolled": true
   },
   "outputs": [],
   "source": [
    "prepData = PrepData(filename, RNN_LEN=300)"
   ]
  },
  {
   "cell_type": "code",
   "execution_count": null,
   "metadata": {},
   "outputs": [],
   "source": [
    "next(prepData.train_gen())\n",
    "a = np.array(prepData.raw)\n",
    "print(a.shape)\n",
    "print(a.mean())\n",
    "mn = a.mean()\n",
    "a = a - mn\n",
    "print(a.mean())"
   ]
  },
  {
   "cell_type": "code",
   "execution_count": null,
   "metadata": {},
   "outputs": [],
   "source": [
    "from scipy import signal\n",
    "f, t, Sxx = signal.spectrogram(a[500:1000], nperseg=10, noverlap=8)\n",
    "print(Sxx.shape)"
   ]
  },
  {
   "cell_type": "code",
   "execution_count": null,
   "metadata": {},
   "outputs": [],
   "source": [
    "sxxmax = max(map(max, Sxx))\n",
    "sxxmin = min(map(min, Sxx))\n",
    "print(sxxmax, sxxmin)"
   ]
  },
  {
   "cell_type": "code",
   "execution_count": null,
   "metadata": {},
   "outputs": [],
   "source": [
    "import matplotlib\n",
    "import matplotlib.colors as colors\n",
    "cmap = matplotlib.cm.gray.reversed()\n",
    "plt.figure(figsize=(20,4))\n",
    "plt.pcolormesh(t, f, Sxx, cmap=cmap, norm=colors.LogNorm(vmin=sxxmin, vmax=sxxmax))\n",
    "plt.ylabel('Frequency [Hz]')\n",
    "plt.xlabel('Time [sec]')\n",
    "plt.show()"
   ]
  },
  {
   "cell_type": "code",
   "execution_count": null,
   "metadata": {},
   "outputs": [],
   "source": []
  }
 ],
 "metadata": {
  "kernelspec": {
   "display_name": "Python 3",
   "language": "python",
   "name": "python3"
  },
  "language_info": {
   "codemirror_mode": {
    "name": "ipython",
    "version": 3
   },
   "file_extension": ".py",
   "mimetype": "text/x-python",
   "name": "python",
   "nbconvert_exporter": "python",
   "pygments_lexer": "ipython3",
   "version": "3.7.5"
  }
 },
 "nbformat": 4,
 "nbformat_minor": 4
}
