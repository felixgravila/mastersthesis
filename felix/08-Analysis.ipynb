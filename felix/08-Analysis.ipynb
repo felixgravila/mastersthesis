{
 "cells": [
  {
   "cell_type": "code",
   "execution_count": null,
   "metadata": {},
   "outputs": [],
   "source": [
    "import pandas as pd\n",
    "from matplotlib import pyplot as plt\n",
    "import h5py\n",
    "import numpy as np\n",
    "import math\n",
    "\n",
    "# from taiyaki encoding\n",
    "labelBaseMap = {\n",
    "    0: \"A\",\n",
    "    1: \"C\",\n",
    "    2: \"G\",\n",
    "    3: \"T\"\n",
    "}"
   ]
  },
  {
   "cell_type": "code",
   "execution_count": null,
   "metadata": {},
   "outputs": [],
   "source": [
    "def get_reads_dict(filename):\n",
    "    file = h5py.File(filename, \"r\")\n",
    "    file = file['Reads']\n",
    "    reads = []\n",
    "    for r in file.keys():\n",
    "        elem = {}\n",
    "        elem['UUID'] = r\n",
    "        for k in file[r].keys():\n",
    "            elem[k]=file[r][k][()]\n",
    "        reads.append(elem)\n",
    "    return reads"
   ]
  },
  {
   "cell_type": "code",
   "execution_count": null,
   "metadata": {},
   "outputs": [],
   "source": [
    "rd = get_reads_dict(\"../taiyakiOutputs/output_justfromfasta.hdf5\")\n",
    "print(f\"Total {len(rd)} reads\")\n",
    "rd[0]"
   ]
  },
  {
   "cell_type": "code",
   "execution_count": null,
   "metadata": {},
   "outputs": [],
   "source": [
    "# analyse average 5-mer length\n",
    "def getLengthPer(read, k=5):\n",
    "    rref = list(read['Ref_to_signal'])\n",
    "    lens = []\n",
    "    maxdif = 0\n",
    "    for i in range(0, (len(rref)-k)):\n",
    "        dif = rref[i+k]-rref[i]\n",
    "        lens.append(dif)\n",
    "        maxdif = dif if dif > maxdif else maxdif\n",
    "    print(f\"{read['UUID']} - max {k}-mer length: {maxdif}\")\n",
    "    return lens\n",
    "#     return maxdif\n",
    "\n",
    "lengths = [getLengthPer(r, 5) for r in rd]\n",
    "alllengths = []\n",
    "for l in lengths:\n",
    "    alllengths.extend(l)\n",
    "plt.hist(alllengths, log=True)"
   ]
  },
  {
   "cell_type": "code",
   "execution_count": null,
   "metadata": {},
   "outputs": [],
   "source": []
  },
  {
   "cell_type": "code",
   "execution_count": null,
   "metadata": {},
   "outputs": [],
   "source": [
    "seq = \"CAGTTAGTGTTACCCAACCTTCAA\"\n",
    "Ref0 = \"\".join(list(map(lambda x: labelBaseMap[x], rd[0]['Reference'])))\n",
    "Ref1 = \"\".join(list(map(lambda x: labelBaseMap[x], rd[1]['Reference'])))\n",
    "p0 = Ref0.find(seq)\n",
    "p1 = Ref1.find(seq)\n",
    "start0 = rd[0]['Ref_to_signal'][p0]\n",
    "stop0 = rd[0]['Ref_to_signal'][p0+len(seq)]\n",
    "start1 = rd[1]['Ref_to_signal'][p1]\n",
    "stop1 = rd[1]['Ref_to_signal'][p1+len(seq)]\n",
    "\n",
    "plt.plot(rd[0]['Dacs'][start0:stop0])\n",
    "plt.plot(rd[1]['Dacs'][start1:stop1])"
   ]
  },
  {
   "cell_type": "code",
   "execution_count": null,
   "metadata": {},
   "outputs": [],
   "source": []
  }
 ],
 "metadata": {
  "kernelspec": {
   "display_name": "Python 3",
   "language": "python",
   "name": "python3"
  },
  "language_info": {
   "codemirror_mode": {
    "name": "ipython",
    "version": 3
   },
   "file_extension": ".py",
   "mimetype": "text/x-python",
   "name": "python",
   "nbconvert_exporter": "python",
   "pygments_lexer": "ipython3",
   "version": "3.7.3"
  }
 },
 "nbformat": 4,
 "nbformat_minor": 4
}
