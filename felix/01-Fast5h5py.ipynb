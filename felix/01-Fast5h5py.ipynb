{
 "cells": [
  {
   "cell_type": "code",
   "execution_count": null,
   "metadata": {},
   "outputs": [],
   "source": [
    "import h5py\n",
    "import pandas as pd\n",
    "from matplotlib import pyplot as plt"
   ]
  },
  {
   "cell_type": "code",
   "execution_count": null,
   "metadata": {},
   "outputs": [],
   "source": [
    "file = \"../somedata/multifast5/umi10000bins/batch0.fast5\""
   ]
  },
  {
   "cell_type": "code",
   "execution_count": null,
   "metadata": {},
   "outputs": [],
   "source": [
    "f = h5py.File(file, 'r')"
   ]
  },
  {
   "cell_type": "code",
   "execution_count": null,
   "metadata": {},
   "outputs": [],
   "source": [
    "reads = []\n",
    "for r in f.keys():\n",
    "    reads.append(f[r])\n",
    "basecoded = list(map(lambda x: x['Analyses']['Basecall_1D_000']['BaseCalled_template']['Fastq'][()], reads))\n",
    "raw = list(map(lambda x: x['Raw']['Signal'][()], reads))\n",
    "reads = zip(basecoded, raw)\n",
    "# next(reads)[1] # proper way to use iterators\n",
    "lreads = list(reads) # not exhaustive\n",
    "len(lreads)"
   ]
  },
  {
   "cell_type": "code",
   "execution_count": null,
   "metadata": {},
   "outputs": [],
   "source": [
    "def plotGraphAndAvg(lst):\n",
    "    i=6\n",
    "    j=3000\n",
    "    plt.plot(range(len(lst)), lst)\n",
    "    plt.plot([0,len(lst)],[sum(lst)/len(lst)]*2)"
   ]
  },
  {
   "cell_type": "code",
   "execution_count": null,
   "metadata": {},
   "outputs": [],
   "source": [
    "for i in range(len(lreads)):\n",
    "    j=1000\n",
    "    plotGraphAndAvg(lreads[i][1][:j])"
   ]
  },
  {
   "cell_type": "code",
   "execution_count": null,
   "metadata": {},
   "outputs": [],
   "source": [
    "plotGraphAndAvg(lreads[3][1][-1000:])"
   ]
  },
  {
   "cell_type": "code",
   "execution_count": null,
   "metadata": {},
   "outputs": [],
   "source": [
    "\n",
    "def add(a,b):\n",
    "    return a+b\n",
    "\n",
    "def div(a,b):\n",
    "    return a/b\n",
    "\n",
    "s = [0]*1000\n",
    "for r in lreads:\n",
    "    s = map(add, r[1][:1000], s)\n",
    "    \n",
    "s = map(div, s, [len(lreads)]*1000)\n",
    "\n",
    "plt.plot(list(s))"
   ]
  },
  {
   "cell_type": "code",
   "execution_count": null,
   "metadata": {},
   "outputs": [],
   "source": []
  }
 ],
 "metadata": {
  "kernelspec": {
   "display_name": "Python 3",
   "language": "python",
   "name": "python3"
  },
  "language_info": {
   "codemirror_mode": {
    "name": "ipython",
    "version": 3
   },
   "file_extension": ".py",
   "mimetype": "text/x-python",
   "name": "python",
   "nbconvert_exporter": "python",
   "pygments_lexer": "ipython3",
   "version": "3.7.3"
  }
 },
 "nbformat": 4,
 "nbformat_minor": 4
}
