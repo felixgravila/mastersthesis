{
 "cells": [
  {
   "cell_type": "code",
   "execution_count": null,
   "metadata": {},
   "outputs": [],
   "source": [
    "from DataPrepper import PrepData\n",
    "from ChironModel import Chiron, SaveCB\n",
    "from Utils import labelBaseMap, get_valid_taiyaki_filename, set_gpu_limit\n",
    "\n",
    "set_gpu_limit(7000)\n",
    "\n",
    "filename = get_valid_taiyaki_filename()"
   ]
  },
  {
   "cell_type": "code",
   "execution_count": null,
   "metadata": {},
   "outputs": [],
   "source": [
    "prepData = PrepData(filename, RNN_LEN=300)\n",
    "chiron = Chiron(prepData.get_max_label_len())\n",
    "save_cb = SaveCB(\"models\", \"images\", chiron.calculate_loss, prepData)"
   ]
  },
  {
   "cell_type": "code",
   "execution_count": null,
   "metadata": {},
   "outputs": [],
   "source": [
    "for idx in range(prepData.get_len()):\n",
    "    print(f\"Epoch {idx}/{prepData.get_len()}\")\n",
    "#     try:\n",
    "    a = next(prepData.train_gen())\n",
    "    chiron.fit(a[0], a[1], initial_epoch=idx, epochs=idx+1, callbacks=[save_cb])\n",
    "#     except Exception as e:\n",
    "#         print(f\"Error {e}, continuing...\")"
   ]
  },
  {
   "cell_type": "code",
   "execution_count": null,
   "metadata": {},
   "outputs": [],
   "source": []
  }
 ],
 "metadata": {
  "kernelspec": {
   "display_name": "Python 3",
   "language": "python",
   "name": "python3"
  },
  "language_info": {
   "codemirror_mode": {
    "name": "ipython",
    "version": 3
   },
   "file_extension": ".py",
   "mimetype": "text/x-python",
   "name": "python",
   "nbconvert_exporter": "python",
   "pygments_lexer": "ipython3",
   "version": "3.7.5"
  }
 },
 "nbformat": 4,
 "nbformat_minor": 4
}
