{
 "cells": [
  {
   "cell_type": "code",
   "execution_count": null,
   "metadata": {},
   "outputs": [],
   "source": [
    "import sys\n",
    "sys.path.insert(0,'../src/utils')\n",
    "\n",
    "import datetime\n",
    "import os\n",
    "import numpy as np\n",
    "from multiprocessing import Pool\n",
    "from multiprocessing.pool import ThreadPool\n",
    "from functools import partial, reduce\n",
    "from IPython.core.debugger import set_trace\n",
    "import matplotlib.pyplot as plt\n",
    "from DataPrepper import PrepData\n",
    "from ChironModel import Chiron\n",
    "import tensorflow as tf\n",
    "import editdistance\n",
    "\n",
    "from Utils import labelBaseMap, set_gpu_limit, get_valid_taiyaki_filename\n",
    "\n",
    "set_gpu_limit(4000)\n",
    "filename = get_valid_taiyaki_filename()\n"
   ]
  },
  {
   "cell_type": "code",
   "execution_count": null,
   "metadata": {},
   "outputs": [],
   "source": [
    "prepData = PrepData(filename, RNN_LEN=300)\n",
    "\n",
    "chiron = Chiron(max_label_length=prepData.get_max_label_len())\n",
    "chiron.model.load_weights(\"models/bestrun/2020-01-09_20:04:16_e00538_dis478.h5\")"
   ]
  },
  {
   "cell_type": "code",
   "execution_count": null,
   "metadata": {},
   "outputs": [],
   "source": [
    "traingen = prepData.train_gen()\n",
    "testgen = prepData.test_gen()\n",
    "\n",
    "a = next(traingen)\n",
    "b = next(testgen)\n",
    "ref = prepData.last_orig_ref\n",
    "\n",
    "print(len(ref))\n",
    "\n",
    "a_X = a[0]['the_input']\n",
    "b_X = b[0]"
   ]
  },
  {
   "cell_type": "code",
   "execution_count": null,
   "metadata": {},
   "outputs": [],
   "source": [
    "batchsize = 200\n",
    "results = []\n",
    "for i in range(0, len(a_X), batchsize):\n",
    "    results.extend(chiron.predict(a_X[i:i+batchsize]))\n",
    "for i in range(0, len(b_X), batchsize):\n",
    "    results.extend(chiron.predict(b_X[i:i+batchsize]))"
   ]
  },
  {
   "cell_type": "code",
   "execution_count": null,
   "metadata": {},
   "outputs": [],
   "source": [
    "print(results[:10])\n",
    "print(len(results))"
   ]
  },
  {
   "cell_type": "code",
   "execution_count": null,
   "metadata": {},
   "outputs": [],
   "source": [
    "ref = \"\".join(map(lambda x: labelBaseMap[x], ref))"
   ]
  },
  {
   "cell_type": "code",
   "execution_count": null,
   "metadata": {},
   "outputs": [],
   "source": [
    "np.save(\"assemblydata\", np.array([results, ref]))"
   ]
  }
 ],
 "metadata": {
  "kernelspec": {
   "display_name": "Python 3",
   "language": "python",
   "name": "python3"
  },
  "language_info": {
   "codemirror_mode": {
    "name": "ipython",
    "version": 3
   },
   "file_extension": ".py",
   "mimetype": "text/x-python",
   "name": "python",
   "nbconvert_exporter": "python",
   "pygments_lexer": "ipython3",
   "version": "3.7.6"
  }
 },
 "nbformat": 4,
 "nbformat_minor": 4
}
