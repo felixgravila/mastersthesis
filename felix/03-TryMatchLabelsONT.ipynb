{
 "cells": [
  {
   "cell_type": "code",
   "execution_count": null,
   "metadata": {},
   "outputs": [],
   "source": [
    "import pandas as pd\n",
    "from matplotlib import pyplot as plt\n",
    "import F5Utils\n",
    "from scipy.spatial.distance import euclidean\n",
    "from fastdtw import fastdtw"
   ]
  },
  {
   "cell_type": "code",
   "execution_count": null,
   "metadata": {},
   "outputs": [],
   "source": [
    "mapping = pd.read_csv('../useful_files/ONT-template.model.csv')\n",
    "\n",
    "#normalising\n",
    "mmin = min(mapping['level_mean'])\n",
    "mmax = max(mapping['level_mean'])\n",
    "mapping['level_mean'] = mapping['level_mean'].map(lambda x: (x-mmin)/(mmax-mmin))\n",
    "\n",
    "mapping.head()"
   ]
  },
  {
   "cell_type": "code",
   "execution_count": null,
   "metadata": {},
   "outputs": [],
   "source": [
    "file = \"../somedata/multifast5/umi10000bins/batch0.fast5\"\n",
    "n = next(F5Utils.getReads(file))\n",
    "read = [str(n[0]),n[1]] # unwrap tuple"
   ]
  },
  {
   "cell_type": "code",
   "execution_count": null,
   "metadata": {},
   "outputs": [],
   "source": [
    "# Get DNA data\n",
    "DNA = read[0].split(\"\\\\n\")[1]\n",
    "\n",
    "ratio = len(read[1])/len(DNA)\n",
    "print(f\"Ratio is {ratio}\")\n",
    "\n",
    "# Convert 5-mers to values\n",
    "vals= []\n",
    "for i in range(len(DNA)-5):\n",
    "    vals.append(mapping.loc[mapping['kmer'] == DNA[i:(i+5)]].level_mean.values[0])\n",
    "    \n",
    "# scale naively using ratio\n",
    "scaledVals = []\n",
    "for i in range(len(vals)):\n",
    "    scaledVals.extend([vals[i] for j in range(round(((i+1)*ratio)-len(scaledVals)))])\n",
    "    \n",
    "#normalising\n",
    "mmin = min(read[1])\n",
    "mmax = max(read[1])\n",
    "read[1] = list(map(lambda x: (x-mmin)/(mmax-mmin), read[1]))"
   ]
  },
  {
   "cell_type": "code",
   "execution_count": null,
   "metadata": {},
   "outputs": [],
   "source": [
    "plt.figure(figsize=(30,10))\n",
    "\n",
    "plt.plot(read[1][300:1000])\n",
    "made = [0.41 for x in range(300)]\n",
    "made.extend(scaledVals[:1000])\n",
    "plt.plot(made[30:730])"
   ]
  },
  {
   "cell_type": "code",
   "execution_count": null,
   "metadata": {},
   "outputs": [],
   "source": []
  },
  {
   "cell_type": "code",
   "execution_count": null,
   "metadata": {},
   "outputs": [],
   "source": []
  }
 ],
 "metadata": {
  "kernelspec": {
   "display_name": "Python 3",
   "language": "python",
   "name": "python3"
  },
  "language_info": {
   "codemirror_mode": {
    "name": "ipython",
    "version": 3
   },
   "file_extension": ".py",
   "mimetype": "text/x-python",
   "name": "python",
   "nbconvert_exporter": "python",
   "pygments_lexer": "ipython3",
   "version": "3.7.3"
  }
 },
 "nbformat": 4,
 "nbformat_minor": 4
}
