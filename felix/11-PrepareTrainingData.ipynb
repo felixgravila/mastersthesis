{
 "cells": [
  {
   "cell_type": "code",
   "execution_count": null,
   "metadata": {},
   "outputs": [],
   "source": [
    "import pandas as pd\n",
    "import h5py\n",
    "import numpy as np\n",
    "from multiprocessing import Pool\n",
    "RNN_LEN = 200\n",
    "\n",
    "labelBaseMap = {\n",
    "    0: \"A\",\n",
    "    1: \"C\",\n",
    "    2: \"G\",\n",
    "    3: \"T\"\n",
    "}\n",
    "\n",
    "tf.__version__"
   ]
  },
  {
   "cell_type": "code",
   "execution_count": null,
   "metadata": {},
   "outputs": [],
   "source": [
    "def get_reads_dict(filename):\n",
    "    file = h5py.File(filename, \"r\")\n",
    "    freads = file['Reads']\n",
    "    reads = []\n",
    "    for r in freads.keys():\n",
    "        elem = {}\n",
    "        elem['UUID'] = r\n",
    "        elem['Dacs'] = freads[r]['Dacs'][()]\n",
    "        elem['RTS'] = freads[r]['Ref_to_signal'][()]\n",
    "        elem['REF'] = freads[r]['Reference'][()]\n",
    "        reads.append(elem)\n",
    "    file.close()\n",
    "    return reads"
   ]
  },
  {
   "cell_type": "code",
   "execution_count": null,
   "metadata": {},
   "outputs": [],
   "source": [
    "file = \"../taiyakiOutputs/output_createfasta.hdf5\"\n",
    "reads = get_reads_dict(file)"
   ]
  },
  {
   "cell_type": "code",
   "execution_count": null,
   "metadata": {},
   "outputs": [],
   "source": [
    "def processRead(read):\n",
    "    print()\n",
    "    df = pd.DataFrame([], columns=['label', 'dac'])\n",
    "    # For each index in the RTS array -1 since we need another last one\n",
    "    for rtsidx in range(len(read['RTS'])-1):\n",
    "        # Add to dataset in increments of 5 until too close to the next rtsidx\n",
    "        # Or not enough Dacs left\n",
    "        i = read['RTS'][rtsidx]\n",
    "        \n",
    "        #make the labels iteratively\n",
    "        labels = []\n",
    "        l = rtsidx\n",
    "        while read['RTS'][l] < i + RNN_LEN and l < len(read['REF']):\n",
    "            labels.append(read['REF'][l])\n",
    "            l += 1\n",
    "\n",
    "        while i < (read['RTS'][rtsidx+1] - 5) and (i + RNN_LEN) < len(read['Dacs']):\n",
    "            # check if we should include another label\n",
    "            while read['RTS'][l] <= i + RNN_LEN and l < len(read['REF']):\n",
    "                labels.append(read['REF'][l])\n",
    "                l += 1\n",
    "            df = df.append({\n",
    "                    \"label\":labels,\n",
    "                    \"dac\":read['Dacs'][i:(i+RNN_LEN)]\n",
    "                    }, ignore_index=True)\n",
    "            i += 5\n",
    "    return df"
   ]
  },
  {
   "cell_type": "code",
   "execution_count": null,
   "metadata": {},
   "outputs": [],
   "source": [
    "pool = Pool()\n",
    "results = pool.map(processRead, reads)\n",
    "pool.close()\n",
    "pool.join()"
   ]
  },
  {
   "cell_type": "code",
   "execution_count": null,
   "metadata": {},
   "outputs": [],
   "source": [
    "df = pd.DataFrame([], columns=['label', 'dac'])\n",
    "for result in results:\n",
    "    df = df.append(result, ignore_index=True)"
   ]
  },
  {
   "cell_type": "code",
   "execution_count": null,
   "metadata": {},
   "outputs": [],
   "source": [
    "df.to_pickle(\"dataset.pickle\")"
   ]
  }
 ],
 "metadata": {
  "kernelspec": {
   "display_name": "Python 3",
   "language": "python",
   "name": "python3"
  },
  "language_info": {
   "codemirror_mode": {
    "name": "ipython",
    "version": 3
   },
   "file_extension": ".py",
   "mimetype": "text/x-python",
   "name": "python",
   "nbconvert_exporter": "python",
   "pygments_lexer": "ipython3",
   "version": "3.7.3"
  }
 },
 "nbformat": 4,
 "nbformat_minor": 4
}
