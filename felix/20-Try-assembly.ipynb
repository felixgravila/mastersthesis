{
 "cells": [
  {
   "cell_type": "code",
   "execution_count": null,
   "metadata": {},
   "outputs": [],
   "source": [
    "import numpy as np\n",
    "from multiprocessing import Pool\n",
    "from functools import reduce\n",
    "import editdistance\n",
    "import matplotlib.pyplot as plt"
   ]
  },
  {
   "cell_type": "code",
   "execution_count": null,
   "metadata": {},
   "outputs": [],
   "source": [
    "data = np.load(\"assemblydata.npy\", allow_pickle=True)"
   ]
  },
  {
   "cell_type": "code",
   "execution_count": null,
   "metadata": {},
   "outputs": [],
   "source": [
    "results = data[0]\n",
    "ref = data[1]\n",
    "len(results)"
   ]
  },
  {
   "cell_type": "code",
   "execution_count": null,
   "metadata": {},
   "outputs": [],
   "source": [
    "# https://pythonforbiologists.com/a-terrible-genome-assembler-in-six-lines\n",
    "def cm(d,ds):\n",
    "    mm = [m(d,e) for e in ds if e != ds]\n",
    "    return max(mm) if len(mm) > 0 else 0\n",
    "\n",
    "def m(d,e):\n",
    "    return max([(s(d,e,o),o,e,d) for o in range(1-len(e),len(d))])\n",
    "\n",
    "def s(d,e,o):\n",
    "    return sum([1 for p in range(max(0-o,0), min([len(e)-o, len(e), len(d)-o])) if e[p] == d[p+o]])\n",
    "\n",
    "def con(x,o,s,c):\n",
    "    return c[0:max(0,o)] + s +  c[len(s)+o:]\n",
    "\n",
    "def a(s, o):\n",
    "    return con(*cm(s, o)) if len(o) == 1 else a(con(*cm(s, o)), [ y for y in o if y != cm(s, o)[2]])\n",
    "\n",
    "def ah(d):\n",
    "    return a(d[0],d[1:])"
   ]
  },
  {
   "cell_type": "code",
   "execution_count": null,
   "metadata": {},
   "outputs": [],
   "source": [
    "len(results)"
   ]
  },
  {
   "cell_type": "code",
   "execution_count": null,
   "metadata": {},
   "outputs": [],
   "source": [
    "difs = []\n",
    "for i, k in enumerate(results[1:]):\n",
    "    difs.append(editdistance.eval(k, results[i-1]))"
   ]
  },
  {
   "cell_type": "code",
   "execution_count": null,
   "metadata": {},
   "outputs": [],
   "source": [
    "plt.hist(difs, density=True)"
   ]
  },
  {
   "cell_type": "code",
   "execution_count": null,
   "metadata": {},
   "outputs": [],
   "source": [
    "def filterabnormal(a):\n",
    "    a,b,c = a\n",
    "    e1 = editdistance.eval(a,b)\n",
    "    e2 = editdistance.eval(b,c)\n",
    "    return e1+e2 < 20\n",
    "\n",
    "\n",
    "filtered = list(map(lambda x:x[1], filter(filterabnormal, zip(results, results[1:], results[2:]))))\n",
    "\n",
    "while True:\n",
    "    prevlen = len(filtered)\n",
    "    filtered = list(map(lambda x:x[1], filter(filterabnormal, zip(filtered, filtered[1:], filtered[2:]))))\n",
    "    if prevlen - len(filtered) < 10 :\n",
    "        break\n",
    "\n",
    "\n",
    "len(filtered)"
   ]
  },
  {
   "cell_type": "code",
   "execution_count": null,
   "metadata": {},
   "outputs": [],
   "source": [
    "difs2 = []\n",
    "for i, k in enumerate(filtered[1:]):\n",
    "    difs2.append(editdistance.eval(k, filtered[i-1]))\n",
    "plt.hist(difs2)\n",
    "print(max(difs2))"
   ]
  },
  {
   "cell_type": "code",
   "execution_count": null,
   "metadata": {},
   "outputs": [],
   "source": [
    "filtered[:10]"
   ]
  },
  {
   "cell_type": "code",
   "execution_count": null,
   "metadata": {},
   "outputs": [],
   "source": [
    "ab = filtered[0]\n",
    "\n",
    "\n",
    "for j in filtered:\n",
    "    ab = ah([ab, j])"
   ]
  },
  {
   "cell_type": "code",
   "execution_count": null,
   "metadata": {},
   "outputs": [],
   "source": [
    "len(ab)"
   ]
  },
  {
   "cell_type": "code",
   "execution_count": null,
   "metadata": {},
   "outputs": [],
   "source": [
    "ab"
   ]
  },
  {
   "cell_type": "code",
   "execution_count": null,
   "metadata": {},
   "outputs": [],
   "source": []
  }
 ],
 "metadata": {
  "kernelspec": {
   "display_name": "Python 3",
   "language": "python",
   "name": "python3"
  },
  "language_info": {
   "codemirror_mode": {
    "name": "ipython",
    "version": 3
   },
   "file_extension": ".py",
   "mimetype": "text/x-python",
   "name": "python",
   "nbconvert_exporter": "python",
   "pygments_lexer": "ipython3",
   "version": "3.7.5"
  }
 },
 "nbformat": 4,
 "nbformat_minor": 4
}
