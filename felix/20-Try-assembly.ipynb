{
 "cells": [
  {
   "cell_type": "code",
   "execution_count": null,
   "metadata": {},
   "outputs": [],
   "source": [
    "import numpy as np\n",
    "from multiprocessing import Pool\n",
    "from functools import reduce\n",
    "from itertools import zip_longest\n",
    "import editdistance\n",
    "import matplotlib.pyplot as plt"
   ]
  },
  {
   "cell_type": "code",
   "execution_count": null,
   "metadata": {},
   "outputs": [],
   "source": [
    "data = np.load(\"assemblydata.npy\", allow_pickle=True)"
   ]
  },
  {
   "cell_type": "code",
   "execution_count": null,
   "metadata": {},
   "outputs": [],
   "source": [
    "results = data[0][::3]\n",
    "ref = data[1]\n",
    "len(results)"
   ]
  },
  {
   "cell_type": "code",
   "execution_count": null,
   "metadata": {},
   "outputs": [],
   "source": [
    "data[1]"
   ]
  },
  {
   "cell_type": "code",
   "execution_count": null,
   "metadata": {},
   "outputs": [],
   "source": [
    "def similarity(str1,str2):\n",
    "    # divide by len of str2 since we make str1 smaller and we want to penalise it\n",
    "    return sum([s1==s2 for s1, s2 in zip(str1, str2)])/len(str2)"
   ]
  },
  {
   "cell_type": "code",
   "execution_count": null,
   "metadata": {},
   "outputs": [],
   "source": [
    "def align(str1, str2):\n",
    "    bestsim = 0\n",
    "    bestalign = 0\n",
    "    for i in range(10):\n",
    "        sim = similarity(str1[i:], str2)\n",
    "        bestsim, bestalign = (sim, i) if sim > bestsim else (bestsim, bestalign)\n",
    "    return bestalign"
   ]
  },
  {
   "cell_type": "code",
   "execution_count": null,
   "metadata": {},
   "outputs": [],
   "source": [
    "def jumpy_lcs(X, Y): \n",
    "    m = len(X)\n",
    "    n = len(Y)\n",
    "    L = [[0 for x in range(n+1)] for x in range(m+1)] \n",
    "  \n",
    "    # Following steps build L[m+1][n+1] in bottom up fashion. Note \n",
    "    # that L[i][j] contains length of LCS of X[0..i-1] and Y[0..j-1]  \n",
    "    for i in range(m+1): \n",
    "        for j in range(n+1): \n",
    "            if i == 0 or j == 0: \n",
    "                L[i][j] = 0\n",
    "            elif X[i-1] == Y[j-1]: \n",
    "                L[i][j] = L[i-1][j-1] + 1\n",
    "            else: \n",
    "                L[i][j] = max(L[i-1][j], L[i][j-1]) \n",
    "  \n",
    "    # Following code is used to print LCS \n",
    "    index = L[m][n] \n",
    "  \n",
    "    # Create a character array to store the lcs string \n",
    "    lcs = [\"\"] * (index+1) \n",
    "    lcs[index] = \"\" \n",
    "  \n",
    "    # Start from the right-most-bottom-most corner and \n",
    "    # one by one store characters in lcs[] \n",
    "    i = m \n",
    "    j = n \n",
    "    while i > 0 and j > 0: \n",
    "  \n",
    "        # If current character in X[] and Y are same, then \n",
    "        # current character is part of LCS \n",
    "        if X[i-1] == Y[j-1]: \n",
    "            lcs[index-1] = X[i-1] \n",
    "            i-=1\n",
    "            j-=1\n",
    "            index-=1\n",
    "  \n",
    "        # If not same, then find the larger of two and \n",
    "        # go in the direction of larger value \n",
    "        elif L[i-1][j] > L[i][j-1]: \n",
    "            i-=1\n",
    "        else: \n",
    "            j-=1\n",
    "  \n",
    "    return \"\".join(lcs) "
   ]
  },
  {
   "cell_type": "code",
   "execution_count": null,
   "metadata": {},
   "outputs": [],
   "source": [
    "def simple(results, display=False):\n",
    "    ll = []\n",
    "    indents = 0\n",
    "    for i in range(1,len(results)):\n",
    "        a = align(results[i-1], results[i])\n",
    "        ll.append(a)\n",
    "        indents += a\n",
    "        if display:\n",
    "            print(\" \"*indents + results[i])\n",
    "    return ll\n",
    "\n",
    "def complicated(results, display=False):\n",
    "    ll = simple(results[:3])\n",
    "    indents = 0\n",
    "    for i in range(3,len(results)):\n",
    "        a0 = align(results[i-3], results[i]) - ll[-2]\n",
    "        a1 = align(results[i-2], results[i]) - ll[-1]\n",
    "        a2 = align(results[i-1], results[i])\n",
    "\n",
    "        avgalign = round((a0+a1+a2)/3)\n",
    "        ll.append(avgalign)\n",
    "        indents += avgalign\n",
    "        if display:\n",
    "            print(\" \"*indents + results[i])\n",
    "    return ll\n",
    "\n",
    "def with_jumpy_lcs(results, display=False):\n",
    "    ll = []\n",
    "    indents = 0\n",
    "    for i in range(1, len(results)):\n",
    "        substr = jumpy_lcs(results[i-1], results[i])\n",
    "        a0 = align(results[i-1], substr)\n",
    "        a1 = align(substr, results[i])\n",
    "        a = a0 + a1\n",
    "        indents += a\n",
    "        ll.append(a)\n",
    "        if display:\n",
    "            print(\" \"*indents + results[i])\n",
    "    return ll\n",
    "\n",
    "\n",
    "def all_together(results, display=False):\n",
    "    if display:\n",
    "        print(results[0])\n",
    "    all_aligns = simple(results), complicated(results), with_jumpy_lcs(results)\n",
    "    ll = list(map(lambda x: round(sum(x)/3), zip(*all_aligns)))\n",
    "    indents = 0\n",
    "    for indent,string in zip(ll, results[1:]):\n",
    "        indents += indent\n",
    "        if display:\n",
    "            print(\" \"*indents + string)\n",
    "    return ll"
   ]
  },
  {
   "cell_type": "code",
   "execution_count": null,
   "metadata": {},
   "outputs": [],
   "source": [
    "def most_frequent_element(the_list):\n",
    "    d = {}\n",
    "    for l in the_list:\n",
    "        if l not in d:\n",
    "            d[l] = 0\n",
    "        d[l] += 1\n",
    "    mx = 0\n",
    "    ml = \"\"\n",
    "    for l in d.keys():\n",
    "        mx, ml = (d[l], l) if d[l] > mx and l != \" \" else (mx, ml)\n",
    "    return ml"
   ]
  },
  {
   "cell_type": "code",
   "execution_count": null,
   "metadata": {},
   "outputs": [],
   "source": [
    "def do_assembly(function, results):\n",
    "    r = function(results)\n",
    "    a = [results[0]]\n",
    "    indents = 0\n",
    "    for indent,result in zip(r,results[1:]):\n",
    "        indents += indent\n",
    "        a.append(\" \"*indents+result)\n",
    "    return \"\".join(map(most_frequent_element, zip_longest(*a, fillvalue=' ')))\n",
    "        \n",
    "\n",
    "for func, fname in zip([simple, complicated, with_jumpy_lcs, all_together],[\"simple\", \"compli\", \"jumpy \", \"all   \"]):\n",
    "    best = 0\n",
    "    bestlen = 0\n",
    "    assembled = do_assembly(func, results)\n",
    "    \n",
    "    print(f\"{fname}: {len(assembled)}, acc {editdistance.eval(assembled, data[1])/len(data[1]):.2f}\")"
   ]
  },
  {
   "cell_type": "code",
   "execution_count": null,
   "metadata": {},
   "outputs": [],
   "source": [
    "assembled = do_assembly(simple, results)"
   ]
  },
  {
   "cell_type": "code",
   "execution_count": null,
   "metadata": {},
   "outputs": [],
   "source": [
    "assembled"
   ]
  },
  {
   "cell_type": "code",
   "execution_count": null,
   "metadata": {},
   "outputs": [],
   "source": [
    "data[1]"
   ]
  },
  {
   "cell_type": "code",
   "execution_count": null,
   "metadata": {},
   "outputs": [],
   "source": []
  }
 ],
 "metadata": {
  "kernelspec": {
   "display_name": "Python 3",
   "language": "python",
   "name": "python3"
  },
  "language_info": {
   "codemirror_mode": {
    "name": "ipython",
    "version": 3
   },
   "file_extension": ".py",
   "mimetype": "text/x-python",
   "name": "python",
   "nbconvert_exporter": "python",
   "pygments_lexer": "ipython3",
   "version": "3.7.6"
  }
 },
 "nbformat": 4,
 "nbformat_minor": 4
}
