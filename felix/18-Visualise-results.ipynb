{
 "cells": [
  {
   "cell_type": "code",
   "execution_count": null,
   "metadata": {},
   "outputs": [],
   "source": [
    "import numpy as np\n",
    "import matplotlib.pyplot as plt\n",
    "from datetime import datetime\n",
    "import matplotlib.dates as mdates"
   ]
  },
  {
   "cell_type": "code",
   "execution_count": null,
   "metadata": {},
   "outputs": [],
   "source": [
    "a = np.load(\"testval.npy\")\n",
    "a0 = list(filter(lambda x: x < 40, a[0]))\n",
    "a1 = list(filter(lambda x: x < 40, a[1]))"
   ]
  },
  {
   "cell_type": "code",
   "execution_count": null,
   "metadata": {},
   "outputs": [],
   "source": [
    "plt.figure(figsize=(10,5))\n",
    "plt.plot(a0, label=\"test\")\n",
    "plt.plot(a1, label=\"validation\")\n",
    "plt.axes().set_ylabel(\"average edit distance (lower is better)\")\n",
    "plt.axes().set_xlabel(\"# of reads trained\")\n",
    "plt.legend()\n",
    "plt.savefig(\"testvalidation.png\")"
   ]
  },
  {
   "cell_type": "code",
   "execution_count": null,
   "metadata": {},
   "outputs": [],
   "source": [
    "max(a[1])"
   ]
  },
  {
   "cell_type": "code",
   "execution_count": null,
   "metadata": {},
   "outputs": [],
   "source": [
    "b = np.load(\"resultsformodels.npy\", allow_pickle=True)"
   ]
  },
  {
   "cell_type": "code",
   "execution_count": null,
   "metadata": {},
   "outputs": [],
   "source": [
    "b = list(b)\n",
    "b.sort(key=lambda x: x['model'])"
   ]
  },
  {
   "cell_type": "code",
   "execution_count": null,
   "metadata": {},
   "outputs": [],
   "source": [
    "dists = [r['avgeditdis'] for r in b]\n",
    "model = [datetime.strptime(r['model'][:19], \"%Y-%m-%d_%H:%M:%S\") for r in b]\n",
    "model = [m-model[0] for m in model]\n",
    "model = [m.seconds for m in model]"
   ]
  },
  {
   "cell_type": "code",
   "execution_count": null,
   "metadata": {},
   "outputs": [],
   "source": [
    "plt.figure(figsize=(10,4))\n",
    "# plt.gca().xaxis.set_major_formatter(mdates.DateFormatter('%H:%M'))\n",
    "plt.plot(model, dists)\n",
    "plt.xticks(range(0, max(model), 30*60), [f\"{m//3600}:{(m//60)%60}\" for m in range(0, max(model), 30*60)], rotation=30)\n",
    "plt.axes().set_ylabel(\"average edit distance (lower is better)\")\n",
    "plt.axes().set_xlabel(\"time trained (H:M)\")\n",
    "plt.savefig(\"aedovertime.png\")"
   ]
  },
  {
   "cell_type": "code",
   "execution_count": null,
   "metadata": {},
   "outputs": [],
   "source": []
  }
 ],
 "metadata": {
  "kernelspec": {
   "display_name": "Python 3",
   "language": "python",
   "name": "python3"
  },
  "language_info": {
   "codemirror_mode": {
    "name": "ipython",
    "version": 3
   },
   "file_extension": ".py",
   "mimetype": "text/x-python",
   "name": "python",
   "nbconvert_exporter": "python",
   "pygments_lexer": "ipython3",
   "version": "3.7.5"
  }
 },
 "nbformat": 4,
 "nbformat_minor": 4
}
