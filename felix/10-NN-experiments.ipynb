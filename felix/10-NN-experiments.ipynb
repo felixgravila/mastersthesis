{
 "cells": [
  {
   "cell_type": "code",
   "execution_count": null,
   "metadata": {},
   "outputs": [],
   "source": [
    "import pandas as pd\n",
    "import numpy as np\n",
    "import tensorflow as tf\n",
    "from tensorflow.keras.models import Sequential\n",
    "from tensorflow.keras.layers import Dense, MaxPooling1D, Flatten, Conv1D, LSTM, Softmax\n",
    "from tensorflow.keras.backend import ctc_batch_cost, ctc_decode\n",
    "import random\n",
    "\n",
    "tf.__version__"
   ]
  },
  {
   "cell_type": "code",
   "execution_count": null,
   "metadata": {},
   "outputs": [],
   "source": [
    "model_lstm = Sequential()\n",
    "model_lstm.add(LSTM(4, activation=\"softmax\", return_sequences=True))\n",
    "model_lstm.add(LSTM(4, activation=\"softmax\", return_sequences=True))\n",
    "model_lstm.compile(loss='categorical_crossentropy', optimizer='adam', metrics=['accuracy'])\n",
    "\n",
    "pred = np.array([[[1,2,3],[2,1,2],[1,2,3]]], np.float)\n",
    "print(model_lstm.predict(pred))\n",
    "\n",
    "pred = np.array([[[1,2,3],[2,1,2]]], np.float)\n",
    "print(model_lstm.predict(pred))\n",
    "\n",
    "# pred = np.array([[[1],[2]]], np.float)\n",
    "# print(model_lstm.predict(pred))\n",
    "\n",
    "pred.shape"
   ]
  },
  {
   "cell_type": "code",
   "execution_count": null,
   "metadata": {},
   "outputs": [],
   "source": [
    "model_nn = Sequential()\n",
    "model_nn.add(Dense(2, input_dim=1, activation='softmax'))\n",
    "model_nn.compile(loss='categorical_crossentropy', optimizer='adam', metrics=['accuracy'])\n",
    "\n",
    "values = [random.random() for _ in range(50000)]\n",
    "truths = [[0.0,1.0] if v>0.5 else [1.0,0.0] for v in values]\n",
    "\n",
    "model_nn.fit(values, np.array(truths), batch_size=10, epochs=4)\n",
    "\n",
    "# model_nn.predict([0.0])"
   ]
  },
  {
   "cell_type": "code",
   "execution_count": null,
   "metadata": {},
   "outputs": [],
   "source": []
  }
 ],
 "metadata": {
  "kernelspec": {
   "display_name": "Python 3",
   "language": "python",
   "name": "python3"
  },
  "language_info": {
   "codemirror_mode": {
    "name": "ipython",
    "version": 3
   },
   "file_extension": ".py",
   "mimetype": "text/x-python",
   "name": "python",
   "nbconvert_exporter": "python",
   "pygments_lexer": "ipython3",
   "version": "3.7.3"
  }
 },
 "nbformat": 4,
 "nbformat_minor": 4
}
