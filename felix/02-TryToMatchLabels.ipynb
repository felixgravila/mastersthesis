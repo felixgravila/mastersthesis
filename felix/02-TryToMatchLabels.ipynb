{
 "cells": [
  {
   "cell_type": "code",
   "execution_count": null,
   "metadata": {},
   "outputs": [],
   "source": [
    "import pandas as pd\n",
    "from matplotlib import pyplot as plt\n",
    "import F5Utils"
   ]
  },
  {
   "cell_type": "code",
   "execution_count": null,
   "metadata": {},
   "outputs": [],
   "source": [
    "file = \"../somedata/multifast5/umi10000bins/batch0.fast5\"\n",
    "n = next(F5Utils.getReads(file))\n",
    "read = [str(n[0]),n[1]] # unwrap tuple\n",
    "read[1] = read[1][550:]"
   ]
  },
  {
   "cell_type": "code",
   "execution_count": null,
   "metadata": {},
   "outputs": [],
   "source": [
    "plt.figure(figsize=(30,10))\n",
    "read[1] = (read[1] - min(read[1]))/max(read[1]) # normalising\n",
    "plt.plot(read[1][:1000])"
   ]
  },
  {
   "cell_type": "code",
   "execution_count": null,
   "metadata": {},
   "outputs": [],
   "source": [
    "DNAdata = read[0].split(\"\\\\n\")[1]\n",
    "print(len(DNAdata))\n",
    "len(DNAdata.split('AAAAAA')[0])"
   ]
  },
  {
   "cell_type": "code",
   "execution_count": null,
   "metadata": {},
   "outputs": [],
   "source": [
    "mapper = {\n",
    "    \"T\": 0,\n",
    "    \"C\": 0.1,\n",
    "    \"A\": 0.2,\n",
    "    \"G\": 0.3\n",
    "}\n",
    "\n",
    "mD = list(map(lambda x: mapper[x], DNAdata))\n",
    "print(mD[:5])\n",
    "ratio = len(read[1])/len(mD)\n",
    "\n",
    "rr = []\n",
    "for i in range(len(mD)):\n",
    "    rr.extend([mD[i] for j in range(round(((i+1)*ratio)-len(rr)))])\n",
    "print(rr[:20])"
   ]
  },
  {
   "cell_type": "code",
   "execution_count": null,
   "metadata": {},
   "outputs": [],
   "source": [
    "def plotFromTo(i, j):\n",
    "    plt.figure(figsize=(30,10))\n",
    "    plt.plot(read[1][i:j])\n",
    "    plt.plot(rr[i:j])\n",
    "    \n",
    "def plotFromToOneHot(i, j):\n",
    "    plt.figure(figsize=(30,10))\n",
    "    plt.plot(read[1][i:j])\n",
    "    plt.plot(list(map(lambda x: 0.1 if x == 0 else 0, rr[i:j])))\n",
    "    plt.plot(list(map(lambda x: 0.1 if x == 0.1 else 0, rr[i:j])))\n",
    "    plt.plot(list(map(lambda x: 0.1 if x == 0.2 else 0, rr[i:j])))\n",
    "    plt.plot(list(map(lambda x: 0.1 if x == 0.3 else 0, rr[i:j])))\n",
    "\n",
    "plotFromTo(0, 300)\n",
    "plotFromToOneHot(0, 300)"
   ]
  }
 ],
 "metadata": {
  "kernelspec": {
   "display_name": "Python 3",
   "language": "python",
   "name": "python3"
  },
  "language_info": {
   "codemirror_mode": {
    "name": "ipython",
    "version": 3
   },
   "file_extension": ".py",
   "mimetype": "text/x-python",
   "name": "python",
   "nbconvert_exporter": "python",
   "pygments_lexer": "ipython3",
   "version": "3.7.3"
  }
 },
 "nbformat": 4,
 "nbformat_minor": 4
}
