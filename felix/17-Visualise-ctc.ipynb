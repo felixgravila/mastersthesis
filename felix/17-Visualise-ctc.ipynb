{
 "cells": [
  {
   "cell_type": "code",
   "execution_count": null,
   "metadata": {},
   "outputs": [],
   "source": [
    "import sys\n",
    "sys.path.insert(0,'../src/utils')\n",
    "\n",
    "import datetime\n",
    "import os\n",
    "import pandas as pd\n",
    "import h5py\n",
    "import numpy as np\n",
    "from multiprocessing import Pool\n",
    "from multiprocessing.pool import ThreadPool\n",
    "from functools import partial, reduce\n",
    "from collections import deque\n",
    "from IPython.core.debugger import set_trace\n",
    "from tensorflow.keras.utils import Sequence\n",
    "import matplotlib.pyplot as plt\n",
    "\n",
    "from DataPrepper import PrepData\n",
    "from ChironModel import Chiron\n",
    "from Utils import labelBaseMap, get_valid_taiyaki_filename, set_gpu_limit\n",
    "\n",
    "set_gpu_limit(5000)\n",
    "\n",
    "filename = get_valid_taiyaki_filename()"
   ]
  },
  {
   "cell_type": "code",
   "execution_count": null,
   "metadata": {},
   "outputs": [],
   "source": [
    "prepData = PrepData(filename, RNN_LEN=300)\n",
    "chiron = Chiron(prepData.get_max_label_len())"
   ]
  },
  {
   "cell_type": "code",
   "execution_count": null,
   "metadata": {},
   "outputs": [],
   "source": [
    "reads_to_test = 5\n",
    "modeldir = \"models/bestrun/\"\n",
    "results = []\n",
    "traingen = prepData.train_gen()\n",
    "testgen = prepData.test_gen()\n",
    "\n",
    "a_X, a_y, b_X, b_y = [],[],[],[]\n",
    "for _ in range(reads_to_test):\n",
    "    a = next(traingen)\n",
    "    b = next(testgen)\n",
    "    a_X.extend(a[0]['the_input'])\n",
    "    a_y.extend(a[0]['unpadded_labels'])\n",
    "    b_X.extend(b[0])\n",
    "    b_y.extend(b[1])\n",
    "    \n",
    "a_X, a_y, b_X, b_y = np.array(a_X), np.array(a_y), np.array(b_X), np.array(b_y),\n",
    "\n",
    "for i, modelfile in enumerate(os.listdir(modeldir)):\n",
    "    print(f\"Evaluating {modelfile} ({i}/{len(os.listdir(modeldir))})\")\n",
    "    toteditdis = 0\n",
    "    totsamples = 0\n",
    "    treditdiss = []\n",
    "    teeditdiss = []\n",
    "    chiron.model.load_weights(os.path.join(modeldir, modelfile))\n",
    "    try:\n",
    "        a_X, a_y = a[0]['the_input'], a[0]['unpadded_labels']\n",
    "        (ed, l, edss) = chiron.calculate_loss(a_X, a_y)\n",
    "        toteditdis += ed\n",
    "        totsamples += l\n",
    "        treditdiss.extend(edss)\n",
    "    except Exception as e:\n",
    "        print(e)\n",
    "    try:\n",
    "        (ed, l, edss) = chiron.calculate_loss(b_X, b_y)\n",
    "        toteditdis += ed\n",
    "        totsamples += l\n",
    "        teeditdiss.extend(edss)\n",
    "    except Exception as e:\n",
    "        print(e)\n",
    "\n",
    "    result = {\n",
    "        'model': modelfile,\n",
    "        'toteditdis': toteditdis,\n",
    "        'totsamples': totsamples,\n",
    "        'avgeditdis': toteditdis/totsamples,\n",
    "        'treditdiss': treditdiss,\n",
    "        'teeditdiss': teeditdiss\n",
    "    }\n",
    "    results.append(result)\n",
    "#     print(result)"
   ]
  },
  {
   "cell_type": "code",
   "execution_count": null,
   "metadata": {},
   "outputs": [],
   "source": [
    "print(results[2]['model'])\n",
    "print(results[5]['model'])"
   ]
  },
  {
   "cell_type": "code",
   "execution_count": null,
   "metadata": {},
   "outputs": [],
   "source": [
    "plt.figure(figsize=(20,10))\n",
    "p1 = results[2]['treditdiss'].copy()\n",
    "p1.extend(results[2]['teeditdiss'])\n",
    "plt.plot(p1, label=\"ed20.51\")\n",
    "\n",
    "p2 = results[5]['treditdiss'].copy()\n",
    "p2.extend(results[5]['teeditdiss'])\n",
    "plt.plot(p2, label=\"ed4.78\")\n",
    "\n",
    "plt.legend()"
   ]
  },
  {
   "cell_type": "code",
   "execution_count": null,
   "metadata": {},
   "outputs": [],
   "source": [
    "plt.plot([r['avgeditdis'] for r in results])"
   ]
  },
  {
   "cell_type": "code",
   "execution_count": null,
   "metadata": {},
   "outputs": [],
   "source": []
  }
 ],
 "metadata": {
  "kernelspec": {
   "display_name": "Python 3",
   "language": "python",
   "name": "python3"
  },
  "language_info": {
   "codemirror_mode": {
    "name": "ipython",
    "version": 3
   },
   "file_extension": ".py",
   "mimetype": "text/x-python",
   "name": "python",
   "nbconvert_exporter": "python",
   "pygments_lexer": "ipython3",
   "version": "3.7.6"
  }
 },
 "nbformat": 4,
 "nbformat_minor": 4
}
