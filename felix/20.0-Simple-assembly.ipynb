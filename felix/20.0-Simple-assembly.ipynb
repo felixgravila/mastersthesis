{
 "cells": [
  {
   "cell_type": "code",
   "execution_count": null,
   "metadata": {},
   "outputs": [],
   "source": [
    "import sys\n",
    "sys.path.insert(0,'../src/utils')\n",
    "\n",
    "import numpy as np\n",
    "from multiprocessing import Pool\n",
    "from functools import reduce\n",
    "from itertools import zip_longest\n",
    "import editdistance\n",
    "import matplotlib.pyplot as plt"
   ]
  },
  {
   "cell_type": "code",
   "execution_count": null,
   "metadata": {},
   "outputs": [],
   "source": [
    "data = np.load(\"assemblydata.npy\", allow_pickle=True)\n",
    "results = data[0][::3]\n",
    "ref = data[1]"
   ]
  },
  {
   "cell_type": "code",
   "execution_count": null,
   "metadata": {},
   "outputs": [],
   "source": [
    "def similarity(str1,str2):\n",
    "    # divide by len of str2 since we make str1 smaller and we want to penalise it\n",
    "    return sum([s1==s2 for s1, s2 in zip(str1, str2)])/len(str2)"
   ]
  },
  {
   "cell_type": "code",
   "execution_count": null,
   "metadata": {},
   "outputs": [],
   "source": [
    "def align(str1, str2):\n",
    "    bestsim = 0\n",
    "    bestalign = 0\n",
    "    for i in range(10):\n",
    "        sim = similarity(str1[i:], str2)\n",
    "        bestsim, bestalign = (sim, i) if sim > bestsim else (bestsim, bestalign)\n",
    "    return bestalign"
   ]
  },
  {
   "cell_type": "code",
   "execution_count": null,
   "metadata": {},
   "outputs": [],
   "source": [
    "def simple(results, display=False):\n",
    "    ll = []\n",
    "    indents = 0\n",
    "    for i in range(1,len(results)):\n",
    "        a = align(results[i-1], results[i])\n",
    "        ll.append(a)\n",
    "        indents += a\n",
    "        if display:\n",
    "            print(\" \"*indents + results[i])\n",
    "    return ll"
   ]
  },
  {
   "cell_type": "code",
   "execution_count": null,
   "metadata": {},
   "outputs": [],
   "source": [
    "alignments = simple(results[:30], display=True)"
   ]
  },
  {
   "cell_type": "code",
   "execution_count": null,
   "metadata": {},
   "outputs": [],
   "source": [
    "def most_frequent_element(the_list):\n",
    "    d = {}\n",
    "    for l in the_list:\n",
    "        if l not in d:\n",
    "            d[l] = 0\n",
    "        d[l] += 1\n",
    "    mx = 0\n",
    "    ml = \"\"\n",
    "    for l in d.keys():\n",
    "        mx, ml = (d[l], l) if d[l] > mx and l != \" \" else (mx, ml)\n",
    "    return ml"
   ]
  },
  {
   "cell_type": "code",
   "execution_count": null,
   "metadata": {},
   "outputs": [],
   "source": [
    "def do_assembly(results):\n",
    "    r = simple(results)\n",
    "    a = [results[0]]\n",
    "    indents = 0\n",
    "    for indent,result in zip(r,results[1:]):\n",
    "        indents += indent\n",
    "        a.append(\" \"*indents+result)\n",
    "    return \"\".join(map(most_frequent_element, zip_longest(*a, fillvalue=' ')))\n",
    "            \n",
    "do_assembly(results)"
   ]
  },
  {
   "cell_type": "code",
   "execution_count": null,
   "metadata": {},
   "outputs": [],
   "source": []
  }
 ],
 "metadata": {
  "kernelspec": {
   "display_name": "Python 3",
   "language": "python",
   "name": "python3"
  },
  "language_info": {
   "codemirror_mode": {
    "name": "ipython",
    "version": 3
   },
   "file_extension": ".py",
   "mimetype": "text/x-python",
   "name": "python",
   "nbconvert_exporter": "python",
   "pygments_lexer": "ipython3",
   "version": "3.7.6"
  }
 },
 "nbformat": 4,
 "nbformat_minor": 4
}
