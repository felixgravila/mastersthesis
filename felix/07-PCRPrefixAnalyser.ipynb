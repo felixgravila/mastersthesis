{
 "cells": [
  {
   "cell_type": "code",
   "execution_count": null,
   "metadata": {},
   "outputs": [],
   "source": [
    "from matplotlib import pyplot as plt\n",
    "import h5py\n",
    "import re\n",
    "\n",
    "noalign = \"../taiyakiOutputs/output_justfromfasta.hdf5\"\n",
    "yealign = \"../taiyakiOutputs/output_map_whole_genome.hdf5\""
   ]
  },
  {
   "cell_type": "code",
   "execution_count": null,
   "metadata": {},
   "outputs": [],
   "source": [
    "labelBaseMap = {\n",
    "    0: \"A\",\n",
    "    1: \"C\",\n",
    "    2: \"G\",\n",
    "    3: \"T\"\n",
    "}\n",
    "\n",
    "def labelToBase(label):\n",
    "    return labelBaseMap[label]\n",
    "    \n",
    "def getReadsDict(filename):\n",
    "    file = h5py.File(filename, \"r\")\n",
    "    file = file['Reads']\n",
    "    reads = []\n",
    "    for r in file.keys():\n",
    "        elem = {}\n",
    "        elem['UUID'] = r\n",
    "        for k in file[r].keys():\n",
    "            elem[k]=file[r][k][()]\n",
    "        reads.append(elem)\n",
    "    return reads\n",
    "\n",
    "def checkedZippedIsSynced(zipped):\n",
    "    dirty = False\n",
    "    for z in zipped:\n",
    "        if z[0]['UUID'] != z[1]['UUID']:\n",
    "            dirty = True\n",
    "            print(f\"Fail at {z}\")\n",
    "    return dirty\n",
    "\n",
    "def getPref(z):\n",
    "    return \"\".join(list(map(labelToBase, list(z[1]['Reference'][:len(list(filter(lambda x: x<=z[0]['Ref_to_signal'][0], z[1]['Ref_to_signal'])))]))))"
   ]
  },
  {
   "cell_type": "code",
   "execution_count": null,
   "metadata": {},
   "outputs": [],
   "source": [
    "readsnoalign = getReadsDict(noalign)\n",
    "readsyealign = getReadsDict(yealign)\n",
    "\n",
    "# create intersection\n",
    "keysInAligned = list(map(lambda read: read['UUID'], readsyealign))\n",
    "readsnoalign = list(filter(lambda read: read['UUID'] in keysInAligned, readsnoalign))\n",
    "\n",
    "zipped = list(zip(readsyealign, readsnoalign))\n",
    "\n",
    "if checkedZippedIsSynced(zipped):\n",
    "    print(\"The two lists are synced\")"
   ]
  },
  {
   "cell_type": "code",
   "execution_count": null,
   "metadata": {},
   "outputs": [],
   "source": [
    "len(zipped)"
   ]
  },
  {
   "cell_type": "code",
   "execution_count": null,
   "metadata": {},
   "outputs": [],
   "source": [
    "zz = list(map(getPref, zipped))\n",
    "zz[10:15]"
   ]
  },
  {
   "cell_type": "code",
   "execution_count": null,
   "metadata": {},
   "outputs": [],
   "source": [
    "zz = list(filter(lambda x: len(x)>0, zz))\n",
    "zz.sort(key=len)\n",
    "zz"
   ]
  },
  {
   "cell_type": "code",
   "execution_count": null,
   "metadata": {},
   "outputs": [],
   "source": [
    "lcs = \"\"\n",
    "shortest = zz[0]\n",
    "tolerance = 10\n",
    "\n",
    "for i in range(len(shortest)-1):\n",
    "    for j in range(i+1, len(shortest)):\n",
    "        if j-i<=len(lcs):\n",
    "            continue\n",
    "        fltr = list(filter(lambda x: shortest[i:j] in x, zz))\n",
    "        if len(fltr) >= len(zz) - tolerance:\n",
    "            lcs = shortest[i:j]\n",
    "            \n",
    "print(lcs)\n",
    "print(len(list(filter(lambda x: lcs in x, zz))))"
   ]
  },
  {
   "cell_type": "code",
   "execution_count": null,
   "metadata": {},
   "outputs": [],
   "source": [
    "mx = 0\n",
    "for z in zz:\n",
    "    if lcs in z:\n",
    "        l = len(z.split(lcs)[0])\n",
    "        mx = l if l > mx else mx\n",
    "print(mx)\n",
    "for z in zz:\n",
    "    start=len(z.split(lcs)[0])\n",
    "    if len(z[start:]) > 0:\n",
    "        print(f\"{z[:start]:>{mx}s}|{lcs}|{z[start+len(lcs):]}\")"
   ]
  },
  {
   "cell_type": "code",
   "execution_count": null,
   "metadata": {},
   "outputs": [],
   "source": []
  }
 ],
 "metadata": {
  "kernelspec": {
   "display_name": "Python 3",
   "language": "python",
   "name": "python3"
  },
  "language_info": {
   "codemirror_mode": {
    "name": "ipython",
    "version": 3
   },
   "file_extension": ".py",
   "mimetype": "text/x-python",
   "name": "python",
   "nbconvert_exporter": "python",
   "pygments_lexer": "ipython3",
   "version": "3.7.3"
  }
 },
 "nbformat": 4,
 "nbformat_minor": 4
}
