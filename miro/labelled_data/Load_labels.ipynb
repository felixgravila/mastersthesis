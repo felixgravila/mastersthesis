{
 "cells": [
  {
   "cell_type": "code",
   "execution_count": null,
   "metadata": {},
   "outputs": [],
   "source": [
    "%%javascript\n",
    "IPython.OutputArea.prototype._should_scroll = function(lines) {\n",
    "    return false;\n",
    "}"
   ]
  },
  {
   "cell_type": "code",
   "execution_count": null,
   "metadata": {},
   "outputs": [],
   "source": [
    "from utilities.load_controller import get_reads\n",
    "from utilities.load_controller import get_matching_reads\n",
    "from utilities.load_controller import get_outlying_reads\n",
    "\n",
    "from utilities.label_controller import get_labelled_data\n",
    "from utilities.label_controller import get_labelled_data_with_reads\n",
    "from utilities.label_controller import get_labelled_data_with_matched_reads\n",
    "from utilities.label_controller import vizualize_ohe_labels\n",
    "\n",
    "from matplotlib import pyplot as plt"
   ]
  },
  {
   "cell_type": "code",
   "execution_count": null,
   "metadata": {},
   "outputs": [],
   "source": [
    "#Getting reads from file(s)\n",
    "f_mapped = \"./utilities/mapped.hdf5\"\n",
    "f_unmapped = \"./utilities/unmapped.hdf5\"\n",
    "\n",
    "#1 - Getting reads from a single file\n",
    "#Returns: [Read1, Read2, ...]\n",
    "reads1 = get_reads(f_mapped)\n",
    "\n",
    "#2 - Getting matching reads from 2 files\n",
    "#Returns - [\n",
    "#           {matched:[[File1_Read1, File2_Read1], [File1_Read2,File2_Read2], ...]}\n",
    "#           {outliers:[Read1, Read2, ...]}\n",
    "#          ]\n",
    "reads2 = get_reads(f_mapped, f_unmapped)\n",
    "matched = reads2['matched']\n",
    "outliers = reads2['outliers']\n",
    "\n",
    "#3 - Getting mathicng reads from 2 files\n",
    "#Returns: [[File1_Read1, File2_Read1], [File1_Read2,File2_Read2], ...]\n",
    "reads3 = get_matching_reads(f_mapped, f_unmapped)\n",
    "\n",
    "#4 - Getting outlying reads from 2 files\n",
    "#Returns: [Read1, Read2, ...]\n",
    "reads4 = get_outlying_reads(f_mapped, f_unmapped)"
   ]
  },
  {
   "cell_type": "code",
   "execution_count": null,
   "metadata": {},
   "outputs": [],
   "source": [
    "# Getting labels - Full workflow\n",
    "# with_signal_barcode_prefix = Keep the part of the signal where there are not labels, mark it -2\n",
    "# with_barcode_prefix = Keep the part of the signal NOT matched to reference (bar code), mark it -1\n",
    "\n",
    "f_mapped = \"./utilities/mapped.hdf5\"\n",
    "f_unmapped = \"./utilities/unmapped.hdf5\"\n",
    "\n",
    "# 1 - Get labels combining MAPPED / NOT MAPPED files\n",
    "# 1-A With file names\n",
    "labels_1a = get_labelled_data(f_mapped, f_unmapped)\n",
    "print(\"1A\")\n",
    "print(labels_1a[0]['data'][10:12])\n",
    "\n",
    "# 1-B With reads\n",
    "print(\"1B\")\n",
    "reads1 = get_matching_reads(f_mapped, f_unmapped)\n",
    "labels_1b = get_labelled_data_with_matched_reads(reads1)\n",
    "print(labels_1a[0]['data'][10:12])\n",
    "\n",
    "# 2 - Get labels from a signle file (Can be MAPPED or UNMAPPED), WITHOUT combining\n",
    "# 2-A With file names == 1-A\n",
    "labels_2a = get_labelled_data(f_mapped)\n",
    "print(\"2A\")\n",
    "print(labels_1a[0]['data'][10:12])\n",
    "\n",
    "# 2-B With reads\n",
    "reads2 = get_reads(f_mapped)\n",
    "labels_2b = get_labelled_data_with_reads(reads2)\n",
    "print(\"2B\")\n",
    "print(labels_1a[0]['data'][10:12])"
   ]
  },
  {
   "cell_type": "code",
   "execution_count": null,
   "metadata": {},
   "outputs": [],
   "source": [
    "def plot(read, color):\n",
    "    print(read['uid'])\n",
    "    plt.figure(figsize=(30,5))\n",
    "    plt.plot(read['measurements'][0:2000]*4, 'k', label=\"raw\")\n",
    "    plt.plot(read['labels'][0:2000], color, label=\"base\")\n",
    "    plt.show()\n",
    "\n",
    "#Vizualizing prefixes\n",
    "f_mapped = \"./utilities/mapped.hdf5\"\n",
    "f_unmapped = \"./utilities/unmapped.hdf5\"\n",
    "reads = get_matching_reads(f_mapped, f_unmapped)\n",
    "\n",
    "#Matching allowes to have 2 levels of prefexes:\n",
    "data1 = vizualize_ohe_labels(reads[:3], True, True)\n",
    "data2 = vizualize_ohe_labels(reads[:3], True, False)\n",
    "data3 = vizualize_ohe_labels(reads[:3], False, False)\n",
    "\n",
    "for i in range(3):\n",
    "    plot(data1[i], 'r')\n",
    "    plot(data2[i], 'g')\n",
    "    plot(data3[i], 'b')"
   ]
  }
 ],
 "metadata": {
  "kernelspec": {
   "display_name": "Python 3",
   "language": "python",
   "name": "python3"
  },
  "language_info": {
   "codemirror_mode": {
    "name": "ipython",
    "version": 3
   },
   "file_extension": ".py",
   "mimetype": "text/x-python",
   "name": "python",
   "nbconvert_exporter": "python",
   "pygments_lexer": "ipython3",
   "version": "3.7.3"
  }
 },
 "nbformat": 4,
 "nbformat_minor": 4
}
