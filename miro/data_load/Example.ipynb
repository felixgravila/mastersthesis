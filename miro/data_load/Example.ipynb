{
 "cells": [
  {
   "cell_type": "code",
   "execution_count": null,
   "metadata": {},
   "outputs": [],
   "source": [
    "from data_loader import DataLoader\n",
    "from file import File\n",
    "from read import Read"
   ]
  },
  {
   "cell_type": "code",
   "execution_count": null,
   "metadata": {},
   "outputs": [],
   "source": [
    "# Get files via data loader\n",
    "loader = DataLoader()\n",
    "root_path = \"C:\\\\Users\\\\mirop\\\\OneDrive\\\\Documents\\\\Programming\\\\Projects\\\\BacteriaDarkMatter\\\\data\"\n",
    "files = loader.get_data(root_path)"
   ]
  },
  {
   "cell_type": "code",
   "execution_count": null,
   "metadata": {},
   "outputs": [],
   "source": [
    "file = files[0]\n",
    "file_id = file.id\n",
    "file_reads = file.reads\n",
    "\n",
    "read = file_reads[0]\n",
    "read_id = read.id\n",
    "read_signal = read.signal\n",
    "read_label = read.label"
   ]
  },
  {
   "cell_type": "code",
   "execution_count": null,
   "metadata": {},
   "outputs": [],
   "source": [
    "print(\"File ID: {}\".format(file.id))\n",
    "print(\"File Reads:\")\n",
    "\n",
    "for read in file.reads:\n",
    "    print(\"     Read ID: {}\".format(read.id))\n",
    "    print(\"     Signal: {}\".format(read.signal))\n",
    "    print(\"     Label: {}\".format(read.label))\n",
    "    print()"
   ]
  },
  {
   "cell_type": "code",
   "execution_count": null,
   "metadata": {},
   "outputs": [],
   "source": []
  }
 ],
 "metadata": {
  "kernelspec": {
   "display_name": "Python 3",
   "language": "python",
   "name": "python3"
  },
  "language_info": {
   "codemirror_mode": {
    "name": "ipython",
    "version": 3
   },
   "file_extension": ".py",
   "mimetype": "text/x-python",
   "name": "python",
   "nbconvert_exporter": "python",
   "pygments_lexer": "ipython3",
   "version": "3.7.3"
  }
 },
 "nbformat": 4,
 "nbformat_minor": 4
}
