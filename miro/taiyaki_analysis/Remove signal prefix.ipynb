{
 "cells": [
  {
   "cell_type": "code",
   "execution_count": null,
   "metadata": {},
   "outputs": [],
   "source": [
    "%%javascript\n",
    "IPython.OutputArea.prototype._should_scroll = function(lines) {\n",
    "    return false;\n",
    "}"
   ]
  },
  {
   "cell_type": "code",
   "execution_count": null,
   "metadata": {},
   "outputs": [],
   "source": [
    "import pandas as pd\n",
    "from matplotlib import pyplot as plt\n",
    "import h5py\n",
    "import numpy as np\n",
    "import statistics "
   ]
  },
  {
   "cell_type": "code",
   "execution_count": null,
   "metadata": {},
   "outputs": [],
   "source": [
    "def get_reads_dict(filename):\n",
    "    file = h5py.File(filename, \"r\")\n",
    "    file = file['Reads']\n",
    "    reads = []\n",
    "    for r in file.keys():\n",
    "        elem = {}\n",
    "        elem['UUID'] = r\n",
    "        for k in file[r].keys():\n",
    "            elem[k]=file[r][k][()]\n",
    "        reads.append(elem)\n",
    "    return reads\n",
    "\n",
    "def normalise_list(lst):\n",
    "    mmin = min(lst)\n",
    "    mmax = max(lst)\n",
    "    lst = (lst - mmin)/(mmax - mmin)\n",
    "    return lst"
   ]
  },
  {
   "cell_type": "code",
   "execution_count": null,
   "metadata": {},
   "outputs": [],
   "source": [
    "reads = get_reads_dict(\"./../../taiyakiOutputs/output_createfasta.hdf5\")\n",
    "mapped_reads = get_reads_dict(\"./../../taiyakiOutputs/output_justfromfasta.hdf5\")"
   ]
  },
  {
   "cell_type": "code",
   "execution_count": null,
   "metadata": {},
   "outputs": [],
   "source": [
    "memory_size = 10\n",
    "memory = [None] * 10\n",
    "\n",
    "def get_memory_mean(list):\n",
    "    lst = []\n",
    "    for m in memory:\n",
    "        if(m == None):\n",
    "            continue\n",
    "        lst.append(m)\n",
    "    return statistics.mean(lst)\n",
    "\n",
    "def get_mm_memory_mean(lst):\n",
    "    lst_min = []\n",
    "    lst_max = []\n",
    "    for m in lst:\n",
    "        if(m == None):\n",
    "            continue\n",
    "        lst_min.append(lst[m][0])\n",
    "        lst.max.append(lst[m][1])\n",
    "    return [lst_min, lst_max]\n",
    " \n",
    "def get_cut_position(signal, window_size, mean_cap, pdf_cap):\n",
    "    f = 0\n",
    "    t = f + window_size\n",
    "    cut_index = 0\n",
    "    \n",
    "    while(t < 2000):\n",
    "        mean = statistics.mean(signal[f:t])\n",
    "        std = statistics.stdev(signal[f:t])\n",
    "        pdf = 1/(std * np.sqrt(2 * np.pi))\n",
    "        \n",
    "        #print(\"{}-{}\".format(f,t))\n",
    "        #print(\"Mean: {}\".format(mean))\n",
    "        #print(\"Standard deviation: {}\".format(std))\n",
    "        #print(\"Probability density function: {}\".format(pdf))\n",
    "        #print(\"----------\")\n",
    "        \n",
    "        memory_index = int(f % (window_size * memory_size) / window_size)\n",
    "        memory[memory_index] = mean \n",
    "        memory_mean = get_memory_mean(memory)\n",
    "        \n",
    "        if(pdf > pdf_cap and abs(memory_mean - mean) < mean_cap):\n",
    "            cut_index = t\n",
    "            \n",
    "        t = t + window_size\n",
    "        f = f + window_size\n",
    "    return cut_index"
   ]
  },
  {
   "cell_type": "code",
   "execution_count": null,
   "metadata": {},
   "outputs": [],
   "source": [
    "#good_examples = [1,2,3,5,6,7,8,9,10,11,12,12,14,19]\n",
    "\n",
    "\n",
    "for i in range(20):\n",
    "    read = reads[i]\n",
    "    signal = normalise_list(read['Dacs'])\n",
    "    index = get_cut_position(signal, 50, 0.03, 15)\n",
    "\n",
    "    plt.figure(figsize=(30,5))\n",
    "    plt.plot(signal[:index+500], 'k', label=\"cut\")\n",
    "    plt.axvline(x=index)\n",
    "    plt.show()"
   ]
  }
 ],
 "metadata": {
  "kernelspec": {
   "display_name": "Python 3",
   "language": "python",
   "name": "python3"
  },
  "language_info": {
   "codemirror_mode": {
    "name": "ipython",
    "version": 3
   },
   "file_extension": ".py",
   "mimetype": "text/x-python",
   "name": "python",
   "nbconvert_exporter": "python",
   "pygments_lexer": "ipython3",
   "version": "3.7.3"
  }
 },
 "nbformat": 4,
 "nbformat_minor": 4
}
