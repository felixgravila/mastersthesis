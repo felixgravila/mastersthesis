{
 "cells": [
  {
   "cell_type": "code",
   "execution_count": null,
   "metadata": {},
   "outputs": [],
   "source": [
    "%%javascript\n",
    "IPython.OutputArea.prototype._should_scroll = function(lines) {\n",
    "    return false;\n",
    "}"
   ]
  },
  {
   "cell_type": "code",
   "execution_count": null,
   "metadata": {},
   "outputs": [],
   "source": [
    "import pandas as pd\n",
    "from matplotlib import pyplot as plt\n",
    "import h5py\n",
    "import numpy as np\n",
    "import statistics "
   ]
  },
  {
   "cell_type": "code",
   "execution_count": null,
   "metadata": {},
   "outputs": [],
   "source": [
    "def get_reads_dict(filename):\n",
    "    file = h5py.File(filename, \"r\")\n",
    "    file = file['Reads']\n",
    "    reads = []\n",
    "    for r in file.keys():\n",
    "        elem = {}\n",
    "        elem['UUID'] = r\n",
    "        for k in file[r].keys():\n",
    "            elem[k]=file[r][k][()]\n",
    "        reads.append(elem)\n",
    "    return reads\n",
    "\n",
    "def normalise_list(lst):\n",
    "    mmin = min(lst)\n",
    "    mmax = max(lst)\n",
    "    lst = (lst - mmin)/(mmax - mmin)\n",
    "    return lst\n",
    "\n",
    "def are_signals_equal(s1,s2):\n",
    "    if(len(s1) != len(s2)):\n",
    "        return False\n",
    "\n",
    "    are_equal = True\n",
    "    for idx, val in enumerate(s1):\n",
    "        if(s1[idx] != s2[idx]):\n",
    "            return False\n",
    "    return True\n",
    "\n",
    "def find_matches_in_tayiaki_ouput(mapped_reads, unmapped_reads):\n",
    "    matched = []\n",
    "    unmatched = []\n",
    "\n",
    "    for r1 in mapped_reads:\n",
    "        s1 = r1['Dacs']\n",
    "        found = False\n",
    "        for r2 in unmapped_reads:\n",
    "            s2 = r2['Dacs']\n",
    "            if(are_signals_equal(s1,s2)):\n",
    "                found = True\n",
    "        if(found):\n",
    "            matched.append(r1)\n",
    "        else:\n",
    "            unmatched.append(r1)\n",
    "    \n",
    "    return matched, unmatched\n",
    "\n",
    "def load_reads(f1,f2):\n",
    "    unmapped_reads = get_reads_dict(f1)\n",
    "    mapped_reads = get_reads_dict(f2)\n",
    "    \n",
    "    return find_matches_in_tayiaki_ouput(mapped_reads, unmapped_reads)\n",
    "\n",
    "def get_read_attributes(read):\n",
    "    return read['UUID'], normalise_list(read['Dacs']), read['Ref_to_signal'], read['Reference']"
   ]
  },
  {
   "cell_type": "code",
   "execution_count": null,
   "metadata": {},
   "outputs": [],
   "source": [
    "f1 = \"./../../taiyakiOutputs/output_createfasta.hdf5\"\n",
    "f2 = \"./../../taiyakiOutputs/output_justfromfasta.hdf5\""
   ]
  },
  {
   "cell_type": "code",
   "execution_count": null,
   "metadata": {},
   "outputs": [],
   "source": [
    "def plot_dropped_reads(color):\n",
    "    _, dropped_reads = load_reads(f1,f2)\n",
    "    for read in dropped_reads:\n",
    "        plot_read(read, color)\n",
    "    \n",
    "def plot_mapped_reads(color):\n",
    "    mapped_reads, _ = load_reads(f1,f2)\n",
    "    for read in mapped_reads:\n",
    "        plot_read(read, color)\n",
    "    \n",
    "def plot_read(read, color):\n",
    "    _, signal, _, _ = get_read_attributes(read)\n",
    "    plt.figure(figsize=(30,5))\n",
    "    plt.plot(signal[0:5000], color, label=\"raw\")"
   ]
  },
  {
   "cell_type": "code",
   "execution_count": null,
   "metadata": {},
   "outputs": [],
   "source": [
    "plot_dropped_reads('r')\n",
    "plot_mapped_reads('g')"
   ]
  }
 ],
 "metadata": {
  "kernelspec": {
   "display_name": "Python 3",
   "language": "python",
   "name": "python3"
  },
  "language_info": {
   "codemirror_mode": {
    "name": "ipython",
    "version": 3
   },
   "file_extension": ".py",
   "mimetype": "text/x-python",
   "name": "python",
   "nbconvert_exporter": "python",
   "pygments_lexer": "ipython3",
   "version": "3.7.3"
  }
 },
 "nbformat": 4,
 "nbformat_minor": 4
}
