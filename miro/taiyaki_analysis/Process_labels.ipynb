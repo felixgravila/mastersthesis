{
 "cells": [
  {
   "cell_type": "code",
   "execution_count": null,
   "metadata": {},
   "outputs": [],
   "source": [
    "%%javascript\n",
    "IPython.OutputArea.prototype._should_scroll = function(lines) {\n",
    "    return false;\n",
    "}"
   ]
  },
  {
   "cell_type": "code",
   "execution_count": null,
   "metadata": {},
   "outputs": [],
   "source": [
    "import pandas as pd\n",
    "from matplotlib import pyplot as plt\n",
    "import h5py\n",
    "import numpy as np\n",
    "import statistics "
   ]
  },
  {
   "cell_type": "code",
   "execution_count": null,
   "metadata": {},
   "outputs": [],
   "source": [
    "def get_reads_dict(filename):\n",
    "    file = h5py.File(filename, \"r\")\n",
    "    file = file['Reads']\n",
    "    reads = []\n",
    "    for r in file.keys():\n",
    "        elem = {}\n",
    "        elem['UUID'] = r\n",
    "        for k in file[r].keys():\n",
    "            elem[k]=file[r][k][()]\n",
    "        reads.append(elem)\n",
    "    return reads\n",
    "\n",
    "def normalise_list(lst):\n",
    "    mmin = min(lst)\n",
    "    mmax = max(lst)\n",
    "    lst = (lst - mmin)/(mmax - mmin)\n",
    "    return lst\n",
    "\n",
    "def are_signals_equal(s1,s2):\n",
    "    if(len(s1) != len(s2)):\n",
    "        return False\n",
    "\n",
    "    are_equal = True\n",
    "    for idx, val in enumerate(s1):\n",
    "        if(s1[idx] != s2[idx]):\n",
    "            return False\n",
    "    return True\n",
    "\n",
    "def find_matches_in_tayiaki_ouput(mapped_reads, unmapped_reads):\n",
    "    matched = []\n",
    "    unmatched = []\n",
    "\n",
    "    for r1 in mapped_reads:\n",
    "        s1 = r1['Dacs']\n",
    "        found = None\n",
    "        for r2 in unmapped_reads:\n",
    "            s2 = r2['Dacs']\n",
    "            if(are_signals_equal(s1,s2)):\n",
    "                found = r2\n",
    "        if(found != None):\n",
    "            matched.append([r1,found])\n",
    "        else:\n",
    "            unmatched.append(r1)\n",
    "    \n",
    "    return matched, unmatched\n",
    "\n",
    "def load_reads(f1,f2):\n",
    "    unmapped_reads = get_reads_dict(f1)\n",
    "    mapped_reads = get_reads_dict(f2)\n",
    "    \n",
    "    return find_matches_in_tayiaki_ouput(mapped_reads, unmapped_reads)\n",
    "\n",
    "def get_read_attributes(read):\n",
    "    #id, signal, points, labels\n",
    "    return read['UUID'], normalise_list(read['Dacs']), read['Ref_to_signal'], read['Reference']"
   ]
  },
  {
   "cell_type": "code",
   "execution_count": null,
   "metadata": {},
   "outputs": [],
   "source": [
    "f1 = \"./../../taiyakiOutputs/output_createfasta.hdf5\"\n",
    "f2 = \"./../../taiyakiOutputs/output_justfromfasta.hdf5\"\n",
    "\n",
    "reads, other_reads = load_reads(f1,f2)"
   ]
  },
  {
   "cell_type": "code",
   "execution_count": null,
   "metadata": {},
   "outputs": [],
   "source": [
    "print(len(reads))\n",
    "print(len(other_reads))"
   ]
  },
  {
   "cell_type": "code",
   "execution_count": null,
   "metadata": {},
   "outputs": [],
   "source": [
    "index = 1\n",
    "\n",
    "_, signal1, points1, labels1 = get_read_attributes(reads[index][0])\n",
    "_, signal2, points2, labels2 = get_read_attributes(reads[index][1])\n",
    "\n",
    "plt.figure(figsize=(30,5))\n",
    "plt.plot(signal1[:2000], 'r', label=\"mapped\")\n",
    "plt.show()\n",
    "\n",
    "plt.figure(figsize=(30,5))\n",
    "plt.plot(signal2[:2000], 'b', label=\"not mapped\")\n",
    "plt.show()"
   ]
  },
  {
   "cell_type": "code",
   "execution_count": null,
   "metadata": {},
   "outputs": [],
   "source": [
    "def make_dna_list(read):\n",
    "    dnalist = []\n",
    "    pos = 0\n",
    "    signalrefs = list(read['Ref_to_signal'])\n",
    "    dnaref = list(read['Reference'])\n",
    "    for idx in range(len(signalrefs)):\n",
    "        if idx == 0:\n",
    "            dnalist.extend([-1]*signalrefs[idx])\n",
    "        else:\n",
    "            for i in range(signalrefs[idx]-signalrefs[idx-1]):\n",
    "                dnalist.append(dnaref[idx-1])\n",
    "    return dnalist\n",
    "\n",
    "def make_labels(dna_unmapped, dna_mapped):\n",
    "    DNA = []\n",
    "    \n",
    "    i = 0\n",
    "    while(i < len(dna_mapped)):\n",
    "        \n",
    "        #mapped have readins\n",
    "        if(dna_mapped[i] != -1):\n",
    "            DNA.append(dna_mapped[i])\n",
    "        #mapped dont yet have readings\n",
    "        else:\n",
    "            #unmapped have readings\n",
    "            if(dna_unmapped[i] != -1):\n",
    "                DNA.append(-1)\n",
    "            #unmapped have no readings\n",
    "            else:\n",
    "                DNA.append(-2)\n",
    "        i +=1\n",
    "    \n",
    "    return DNA    "
   ]
  },
  {
   "cell_type": "code",
   "execution_count": null,
   "metadata": {},
   "outputs": [],
   "source": [
    "for index in range(len(reads)):\n",
    "    #THESE TWO HAVE DIF LENGTHS?!\n",
    "    dna1 = make_dna_list(reads[index][0])\n",
    "    dna2 = make_dna_list(reads[index][1])\n",
    "    DNA = make_labels(dna1, dna2)\n",
    "    uid1, signal1, points1, labels1 = get_read_attributes(reads[index][0])\n",
    "    _, signal2, points2, labels2 = get_read_attributes(reads[index][1]) \n",
    "             \n",
    "    #plt.figure(figsize=(30,5))\n",
    "    #plt.plot(signal1[0:2000]*4, 'k', label=\"raw\")\n",
    "    #plt.plot(dna1[0:2000], 'r', label=\"base\")\n",
    "    #plt.show()\n",
    "    \n",
    "    #plt.figure(figsize=(30,5))\n",
    "    #plt.plot(signal1[0:2000]*4, 'k', label=\"raw\")\n",
    "    #plt.plot(dna2[0:2000], 'b', label=\"base\")\n",
    "    #plt.show()\n",
    "\n",
    "    print(uid1)\n",
    "    plt.figure(figsize=(30,5))\n",
    "    plt.plot(signal1[:2000]*4, 'k', label=\"raw\")\n",
    "    plt.plot(DNA[:2000], 'g', label=\"DNA\")\n",
    "    plt.show()"
   ]
  }
 ],
 "metadata": {
  "kernelspec": {
   "display_name": "Python 3",
   "language": "python",
   "name": "python3"
  },
  "language_info": {
   "codemirror_mode": {
    "name": "ipython",
    "version": 3
   },
   "file_extension": ".py",
   "mimetype": "text/x-python",
   "name": "python",
   "nbconvert_exporter": "python",
   "pygments_lexer": "ipython3",
   "version": "3.7.3"
  }
 },
 "nbformat": 4,
 "nbformat_minor": 4
}
